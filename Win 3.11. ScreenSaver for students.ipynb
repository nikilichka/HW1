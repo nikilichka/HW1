{
 "cells": [
  {
   "cell_type": "markdown",
   "metadata": {},
   "source": [
    "# Win 3.11 ScreenSaver implementation\n",
    "\n",
    "In this lab, you will recreate the Windows 3.11 screen saver using Python and the pygame library.\n",
    "\n",
    "During the work you will:\n",
    "1) Set up the environment for correct operation\n",
    "2) Implement all the necessary functions so that the algorithm works at a basic level\n",
    "3) Add some “unique feature” of your choice, which will highlight your work among others and show that you really understand the principle of work\n",
    "4) Prepare the README.md file as a laboratory report and get a good grade.\n",
    "\n",
    "As mentioned above, for your convenience, the problem is decomposed into functions. After each function there are a series of checks that will tell you whether you are working in the right direction.\n",
    "\n",
    "Do not modify the code outside the specified locations. This may lead to instability and errors. Good luck!\n",
    "\n",
    "P.S. If you find any mistake - please notify me"
   ]
  },
  {
   "cell_type": "markdown",
   "metadata": {},
   "source": [
    "## Install all dependencies \n",
    "\n",
    "In this section I'd like you to create a virtual environment and install all the packages. This step is optional, but I'm sure it's a good practice to use virtual environments to work with code properly. If you have never work with them, refer to [this link](https://docs.python.org/3/library/venv.html) \n",
    "\n",
    "You can create the environment using this command \n",
    "```console\n",
    "python -m venv {THE_NAME_OF_YOUR_VENV_HERE} \n",
    "```"
   ]
  },
  {
   "cell_type": "markdown",
   "metadata": {},
   "source": [
    "To activate the virtual environment (venv) you have to run via cmd\n",
    "\n",
    "```console\n",
    "\\venv\\Scripts\\activate\n",
    "```\n",
    "\n",
    "Then you can install all the necessary libraries from requirements.txt \n",
    "```console\n",
    "pip install -r requirements.txt\n",
    "```"
   ]
  },
  {
   "cell_type": "markdown",
   "metadata": {},
   "source": [
    "## Create the base game cycle \n",
    "\n",
    "For your animation to work, it must be created inside a special \"game loop\". Now we will try to create such a loop to check that all libraries are installed correctly and you can start working on the laboratory work. Follow the instructions in the code comments below."
   ]
  },
  {
   "cell_type": "code",
   "execution_count": 1,
   "metadata": {},
   "outputs": [
    {
     "name": "stdout",
     "output_type": "stream",
     "text": [
      "pygame 2.6.1 (SDL 2.28.4, Python 3.13.2)\n",
      "Hello from the pygame community. https://www.pygame.org/contribute.html\n"
     ]
    },
    {
     "name": "stderr",
     "output_type": "stream",
     "text": [
      "2025-03-03 04:58:20.002 Python[61608:3813776] +[IMKClient subclass]: chose IMKClient_Modern\n",
      "2025-03-03 04:58:20.002 Python[61608:3813776] +[IMKInputSession subclass]: chose IMKInputSession_Modern\n"
     ]
    },
    {
     "name": "stdout",
     "output_type": "stream",
     "text": [
      "Unexpected exception formatting exception. Falling back to standard exception\n"
     ]
    },
    {
     "name": "stderr",
     "output_type": "stream",
     "text": [
      "Traceback (most recent call last):\n",
      "  File \"/Users/veronica/HW1/venv/lib/python3.13/site-packages/IPython/core/interactiveshell.py\", line 3577, in run_code\n",
      "    exec(code_obj, self.user_global_ns, self.user_ns)\n",
      "    ~~~~^^^^^^^^^^^^^^^^^^^^^^^^^^^^^^^^^^^^^^^^^^^^^\n",
      "  File \"/var/folders/2h/tx5zdc0d7yx8ldnbx3kxpv480000gn/T/ipykernel_61608/1627476088.py\", line 18, in <module>\n",
      "    pygame.display.flip()\n",
      "    ~~~~~~~~~~~~~~~~~~~^^\n",
      "KeyboardInterrupt\n",
      "\n",
      "During handling of the above exception, another exception occurred:\n",
      "\n",
      "Traceback (most recent call last):\n",
      "  File \"/Users/veronica/HW1/venv/lib/python3.13/site-packages/IPython/core/interactiveshell.py\", line 2168, in showtraceback\n",
      "    stb = self.InteractiveTB.structured_traceback(\n",
      "        etype, value, tb, tb_offset=tb_offset\n",
      "    )\n",
      "  File \"/Users/veronica/HW1/venv/lib/python3.13/site-packages/IPython/core/ultratb.py\", line 1454, in structured_traceback\n",
      "    return FormattedTB.structured_traceback(\n",
      "           ~~~~~~~~~~~~~~~~~~~~~~~~~~~~~~~~^\n",
      "        self, etype, evalue, etb, tb_offset, number_of_lines_of_context\n",
      "        ^^^^^^^^^^^^^^^^^^^^^^^^^^^^^^^^^^^^^^^^^^^^^^^^^^^^^^^^^^^^^^^\n",
      "    )\n",
      "    ^\n",
      "  File \"/Users/veronica/HW1/venv/lib/python3.13/site-packages/IPython/core/ultratb.py\", line 1345, in structured_traceback\n",
      "    return VerboseTB.structured_traceback(\n",
      "           ~~~~~~~~~~~~~~~~~~~~~~~~~~~~~~^\n",
      "        self, etype, value, tb, tb_offset, number_of_lines_of_context\n",
      "        ^^^^^^^^^^^^^^^^^^^^^^^^^^^^^^^^^^^^^^^^^^^^^^^^^^^^^^^^^^^^^\n",
      "    )\n",
      "    ^\n",
      "  File \"/Users/veronica/HW1/venv/lib/python3.13/site-packages/IPython/core/ultratb.py\", line 1192, in structured_traceback\n",
      "    formatted_exception = self.format_exception_as_a_whole(etype, evalue, etb, number_of_lines_of_context,\n",
      "                                                           tb_offset)\n",
      "  File \"/Users/veronica/HW1/venv/lib/python3.13/site-packages/IPython/core/ultratb.py\", line 1082, in format_exception_as_a_whole\n",
      "    self.get_records(etb, number_of_lines_of_context, tb_offset) if etb else []\n",
      "    ~~~~~~~~~~~~~~~~^^^^^^^^^^^^^^^^^^^^^^^^^^^^^^^^^^^^^^^^^^^^\n",
      "  File \"/Users/veronica/HW1/venv/lib/python3.13/site-packages/IPython/core/ultratb.py\", line 1179, in get_records\n",
      "    res = list(stack_data.FrameInfo.stack_data(etb, options=options))[tb_offset:]\n",
      "          ~~~~^^^^^^^^^^^^^^^^^^^^^^^^^^^^^^^^^^^^^^^^^^^^^^^^^^^^^^^\n",
      "  File \"/Users/veronica/HW1/venv/lib/python3.13/site-packages/stack_data/core.py\", line 597, in stack_data\n",
      "    yield from collapse_repeated(\n",
      "    ...<4 lines>...\n",
      "    )\n",
      "  File \"/Users/veronica/HW1/venv/lib/python3.13/site-packages/stack_data/utils.py\", line 83, in collapse_repeated\n",
      "    yield from map(mapper, original_group)\n",
      "  File \"/Users/veronica/HW1/venv/lib/python3.13/site-packages/stack_data/core.py\", line 587, in mapper\n",
      "    return cls(f, options)\n",
      "  File \"/Users/veronica/HW1/venv/lib/python3.13/site-packages/stack_data/core.py\", line 551, in __init__\n",
      "    self.executing = Source.executing(frame_or_tb)\n",
      "                     ~~~~~~~~~~~~~~~~^^^^^^^^^^^^^\n",
      "  File \"/Users/veronica/HW1/venv/lib/python3.13/site-packages/executing/executing.py\", line 283, in executing\n",
      "    assert_(new_stmts <= stmts)\n",
      "    ~~~~~~~^^^^^^^^^^^^^^^^^^^^\n",
      "  File \"/Users/veronica/HW1/venv/lib/python3.13/site-packages/executing/executing.py\", line 80, in assert_\n",
      "    raise AssertionError(str(message))\n",
      "AssertionError\n"
     ]
    }
   ],
   "source": [
    "import pygame \n",
    "\n",
    "# How many pixels will the screeen with your animation have. \n",
    "# Try different sizes to check how they work \n",
    "screen_width = 800\n",
    "screen_height = 600\n",
    "\n",
    "pygame.init() # Initialize the game screen\n",
    "screen = pygame.display.set_mode((screen_width, screen_height))\n",
    "done = None # This variable will track if the \"game\" is done or not\n",
    "\n",
    "#The game cycle \n",
    "while not done:\n",
    "    for event in pygame.event.get():\n",
    "        if event.type == pygame.QUIT:\n",
    "            done = True\n",
    "\n",
    "    pygame.display.flip()\n",
    "\n",
    "pygame.quit()"
   ]
  },
  {
   "cell_type": "markdown",
   "metadata": {},
   "source": [
    "If you have seen a black screen, everything is fine than! We can move forward and try to complete the task\n",
    "\n",
    "Before we move on to writing the functions of the main program loop, we need to decide on the data structures and representation of our objects, since they must be created before the game loop begins.\n",
    "\n",
    "Our task will be as follows. Before creating a game loop, you need to ask:\n",
    "1) An object (structure) in which the created stars will be stored\n",
    "2) An object that will store information about each created star\n",
    "3) A constant that determines the maximum number of stars\n",
    "4) A constant (or not a constant, in case you want to come up with something creative) that sets the speed of the stars (that is, the change in its coordinates per animation frame)\n",
    "\n",
    "Your task is to think about which data structures are best to choose for each task and justify your choice. Follow the comments on the code block below."
   ]
  },
  {
   "cell_type": "code",
   "execution_count": 2,
   "metadata": {},
   "outputs": [
    {
     "data": {
      "text/plain": [
       "'↑↑↑ YOUR CODE HERE ↑↑↑'"
      ]
     },
     "execution_count": 2,
     "metadata": {},
     "output_type": "execute_result"
    }
   ],
   "source": [
    "'''↓↓↓ YOUR CODE HERE ↓↓↓'''\n",
    "star_numbers = 100 \n",
    "speed = 1.5  \n",
    "\n",
    "stars = []\n",
    "'''↑↑↑ YOUR CODE HERE ↑↑↑'''"
   ]
  },
  {
   "cell_type": "markdown",
   "metadata": {},
   "source": [
    "### Justification \n",
    "\n",
    "Justify you choices in this cell"
   ]
  },
  {
   "cell_type": "markdown",
   "metadata": {},
   "source": [
    "Great! I'm sure you did it. Now let's write a function to create a star. As we stated earlier, each star consists of an X-coordinate, a Y-coordinate, a Z-distance (distance to the star), and a color.\n",
    "\n",
    "We will use the random module so that the new star is generated at random coordinates within some starting “field”. The Z distance will always be equal to 256 (the maximum distance of the star from us). The initial color is 0, so that the brightness of the star increases as it approaches us.\n",
    "\n",
    "When writing a function, you need to know that the center of coordinates in pygame is in the top left corner of the window, so be sure to take this fact into account when creating the star. For convenience, our “reduced” coordinate center will be placed at the center of the screen, that is, the coordinates should have coordinates in the intervals \n",
    "\n",
    "(- screen width // 2 : + screen width // 2, - screen height // 2, + screen height // 2)"
   ]
  },
  {
   "cell_type": "code",
   "execution_count": 3,
   "metadata": {},
   "outputs": [],
   "source": [
    "import random\n",
    "\n",
    "def new_star() -> list:\n",
    "    x = random.uniform(-screen_width // 2, screen_width // 2)  \n",
    "    y = random.uniform(-screen_height // 2, screen_height // 2)  \n",
    "    z = 256  \n",
    "    color = (255, 255,255)\n",
    "    return [x, y, z, color]\n",
    "    '''↑↑↑ YOUR CODE HERE ↑↑↑'''\n",
    "    \n",
    "    return star"
   ]
  },
  {
   "cell_type": "markdown",
   "metadata": {},
   "source": [
    "Let's generate some starts and see whether they are OK or not"
   ]
  },
  {
   "cell_type": "code",
   "execution_count": 4,
   "metadata": {},
   "outputs": [
    {
     "name": "stdout",
     "output_type": "stream",
     "text": [
      "Seems fine, good job!\n"
     ]
    }
   ],
   "source": [
    "# Tests. Run for check the function \n",
    "\n",
    "for i in range(100):\n",
    "    star_sample = new_star()\n",
    "    assert len(star_sample) == 4, 'The star is defined by 4 numbers'\n",
    "    assert -(screen_width // 2) <= star_sample[0] <= screen_width // 2, 'coordinates should have coordinates in the intervals (- screen width: + screen width, - screen height, + screen height)'\n",
    "    assert -(screen_height // 2) <= star_sample[1] <= screen_height // 2 , 'coordinates should have coordinates in the intervals (- screen width: + screen width, - screen height, + screen height)'\n",
    "    assert star_sample[2] == 256, 'Z coordinate has to be equal 256'\n",
    "    assert star_sample[3] != 0, 'Start color has to be equal to 0'\n",
    "print('Seems fine, good job!')"
   ]
  },
  {
   "cell_type": "markdown",
   "metadata": {},
   "source": [
    "Now let's implement the movement and verification mechanism. We need to calculate its x and y coordinates for each star at each step in accordance with the perspective (z coordinate).\n",
    "We can do this as discussed in lecture using the following formulas:\n",
    "$$X_s = \\frac{X*256}{Z} + X_c$$\n",
    "$$Y_s = \\frac{X*256}{Z} + Y_c$$\n",
    "\n",
    "$X_s$, $Y_s$ - Coordinate on screen \n",
    "\n",
    "$X_c$, $Y_c$ - Coordinate of the center of the screen \n",
    "\n",
    "Then we have to check if the star has gone off the screen. If this happens, we will remove this star from our list and generate a new star instead."
   ]
  },
  {
   "cell_type": "code",
   "execution_count": 5,
   "metadata": {},
   "outputs": [],
   "source": [
    "def move_and_check(star:list) -> list:\n",
    "    \n",
    "    '''↓↓↓ YOUR CODE HERE ↓↓↓'''\n",
    "    x, y, z, color = star\n",
    "    x = x * 256 / z\n",
    "    y = y * 256 / z\n",
    "\n",
    "    z -= speed\n",
    "\n",
    "    # If the coordinates go beyond the screen, we generate a new star.\n",
    "    if z <= 0 or abs(x) > screen_width // 2 or abs(y) > screen_height // 2:\n",
    "        star = new_star()\n",
    "    '''↑↑↑ YOUR CODE HERE ↑↑↑'''\n",
    "    return star"
   ]
  },
  {
   "cell_type": "markdown",
   "metadata": {},
   "source": [
    "To check that everything works as expected, I simulate a test run. If we don't get any errors during the run, then your code is written correctly (very likely)"
   ]
  },
  {
   "cell_type": "code",
   "execution_count": 6,
   "metadata": {},
   "outputs": [
    {
     "name": "stdout",
     "output_type": "stream",
     "text": [
      "Seems good!\n"
     ]
    }
   ],
   "source": [
    "stars = [new_star() for _ in range(50)]\n",
    "for i in range(1000):\n",
    "    for star in stars:\n",
    "        move_and_check(star)\n",
    "print('Seems good!')"
   ]
  },
  {
   "cell_type": "markdown",
   "metadata": {},
   "source": [
    "We are very close to implementing the basic algorithm. Now all that is needed is to build a loop within which our functions will be called and draw the stars on the screen. Let's implement a draw_star function that will display a star on the screen. The main thing is not to forget to make the reverse transition from our selected coordinate system to the window coordinate system."
   ]
  },
  {
   "cell_type": "code",
   "execution_count": 7,
   "metadata": {},
   "outputs": [],
   "source": [
    "def draw_star(star:list) -> None:\n",
    "    '''↓↓↓ YOUR CODE HERE ↓↓↓'''\n",
    "    x, y, z, color = star\n",
    "\n",
    "    screen_x = int(x + screen_width // 2)\n",
    "    screen_y = int(y + screen_height // 2)\n",
    "    '''↑↑↑ YOUR CODE HERE ↑↑↑'''\n",
    "    pygame.draw.circle(screen, color, (screen_x, screen_y), 3)"
   ]
  },
  {
   "cell_type": "markdown",
   "metadata": {},
   "source": [
    "Let's check how your code works using a working example. Below you need to insert functions in the right places to check that your program works exactly as planned. Follow the comments in the code, we are building the entire program from scratch!"
   ]
  },
  {
   "cell_type": "code",
   "execution_count": 9,
   "metadata": {},
   "outputs": [],
   "source": [
    "import pygame\n",
    "import random\n",
    "\n",
    "'''↓↓↓ YOUR CODE HERE ↓↓↓'''\n",
    "screen_width = 800\n",
    "screen_height = 600\n",
    "'''↑↑↑ YOUR CODE HERE ↑↑↑'''\n",
    "\n",
    "pygame.init()\n",
    "screen = pygame.display.set_mode((screen_width, screen_height))\n",
    "done = False\n",
    "\n",
    "'''↓↓↓ YOUR CODE HERE ↓↓↓'''\n",
    "star_numbers = 100 \n",
    "speed = 1.5  \n",
    "stars = []\n",
    "'''↑↑↑ YOUR CODE HERE ↑↑↑'''\n",
    "\n",
    "for i in range(0, star_numbers):\t\t\n",
    "    stars.append(new_star())\n",
    "\n",
    "while not done:\n",
    "    for event in pygame.event.get():\n",
    "        if event.type == pygame.QUIT:\n",
    "            done = True\n",
    "\n",
    "    screen.fill((0, 0, 0))  \n",
    "\n",
    "    for i in range(0, star_numbers):\t\t\n",
    "        s = stars[i]\t\t\t    \t\t\n",
    "        \n",
    "        '''↓↓↓ YOUR CODE HERE ↓↓↓'''\n",
    "        stars[i] = move_and_check(stars[i])\n",
    "        '''↑↑↑ YOUR CODE HERE ↑↑↑'''\n",
    "        \n",
    "        stars[i] = s\n",
    "        \n",
    "        '''↓↓↓ YOUR CODE HERE ↓↓↓'''\n",
    "        draw_star(stars[i])\n",
    "        '''↑↑↑ YOUR CODE HERE ↑↑↑'''\n",
    "    \n",
    "    pygame.display.flip()\n",
    "pygame.quit()"
   ]
  },
  {
   "cell_type": "markdown",
   "metadata": {},
   "source": [
    "Finally! You are breathtaking (of course, if you managed to implement everything correctly. But even if you didn’t manage to implement it, don’t be upset, you will definitely succeed)!\n",
    "\n",
    "Now you need to try to implement some cool killer feature to add some \"zest\" to your work. Afterwards, do not forget to fill out the README.md file and submit your work for verification in the agreed manner."
   ]
  },
  {
   "cell_type": "markdown",
   "metadata": {},
   "source": []
  }
 ],
 "metadata": {
  "kernelspec": {
   "display_name": "venv",
   "language": "python",
   "name": "python3"
  },
  "language_info": {
   "codemirror_mode": {
    "name": "ipython",
    "version": 3
   },
   "file_extension": ".py",
   "mimetype": "text/x-python",
   "name": "python",
   "nbconvert_exporter": "python",
   "pygments_lexer": "ipython3",
   "version": "3.13.2"
  }
 },
 "nbformat": 4,
 "nbformat_minor": 2
}
